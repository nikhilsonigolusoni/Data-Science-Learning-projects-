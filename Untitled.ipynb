{
 "cells": [
  {
   "cell_type": "code",
   "execution_count": 1,
   "id": "899d30ca-7edd-41e4-9b6f-e856ed09e7bd",
   "metadata": {},
   "outputs": [],
   "source": [
    "### outlaieres \n"
   ]
  },
  {
   "cell_type": "code",
   "execution_count": 4,
   "id": "0c03b290-8cab-4258-9d4b-88484394520f",
   "metadata": {},
   "outputs": [],
   "source": [
    "import numpy as np\n",
    "import matplotlib.pyplot as pyplot \n",
    "%matplotlib inline \n"
   ]
  },
  {
   "cell_type": "code",
   "execution_count": 5,
   "id": "06aad5d5-e77d-4830-a433-3335ae37ea30",
   "metadata": {},
   "outputs": [],
   "source": [
    "## define our dataset "
   ]
  },
  {
   "cell_type": "code",
   "execution_count": 6,
   "id": "f6c38f8e-cd6d-4270-bdbd-1333d79e6bac",
   "metadata": {},
   "outputs": [],
   "source": [
    "dataset = [78, 11, 43, 52, 69, 87, 65, 30, 27, 99, 4, 14, 54, 19, 37, 91, 58, 48, 17, 22, 83, 70, 33, 61, 8]\n"
   ]
  },
  {
   "cell_type": "code",
   "execution_count": null,
   "id": "fe3095ba-7408-48d5-a4d5-47fed7908460",
   "metadata": {},
   "outputs": [],
   "source": []
  }
 ],
 "metadata": {
  "kernelspec": {
   "display_name": "Python 3 (ipykernel)",
   "language": "python",
   "name": "python3"
  },
  "language_info": {
   "codemirror_mode": {
    "name": "ipython",
    "version": 3
   },
   "file_extension": ".py",
   "mimetype": "text/x-python",
   "name": "python",
   "nbconvert_exporter": "python",
   "pygments_lexer": "ipython3",
   "version": "3.12.0"
  }
 },
 "nbformat": 4,
 "nbformat_minor": 5
}
