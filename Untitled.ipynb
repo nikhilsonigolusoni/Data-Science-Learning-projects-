{
 "cells": [
  {
   "cell_type": "code",
   "execution_count": 1,
   "id": "899d30ca-7edd-41e4-9b6f-e856ed09e7bd",
   "metadata": {},
   "outputs": [],
   "source": [
    "### outlaieres \n"
   ]
  },
  {
   "cell_type": "code",
   "execution_count": 9,
   "id": "0c03b290-8cab-4258-9d4b-88484394520f",
   "metadata": {},
   "outputs": [],
   "source": [
    "import numpy as np\n",
    "import matplotlib.pyplot as pyplot \n",
    "%matplotlib inline \n"
   ]
  },
  {
   "cell_type": "code",
   "execution_count": 10,
   "id": "06aad5d5-e77d-4830-a433-3335ae37ea30",
   "metadata": {},
   "outputs": [],
   "source": [
    "## define our dataset "
   ]
  },
  {
   "cell_type": "code",
   "execution_count": 11,
   "id": "f6c38f8e-cd6d-4270-bdbd-1333d79e6bac",
   "metadata": {},
   "outputs": [],
   "source": [
    "dataset = [78, 11, 43, 52, 69, 87, 65, 30, 27, 99, 4, 14, 54, 19, 37, 91, 58, 48, 17, 22, 83, 70, 33, 61, 8]\n"
   ]
  },
  {
   "cell_type": "code",
   "execution_count": 24,
   "id": "fe3095ba-7408-48d5-a4d5-47fed7908460",
   "metadata": {},
   "outputs": [],
   "source": [
    "def detect_outliers(data):\n",
    "    \"\"\"\n",
    "    Detects outliers in a dataset using the 3 standard deviation rule.\n",
    "\n",
    "    Parameters:\n",
    "    data (list or numpy array): The input data.\n",
    "\n",
    "    Returns:\n",
    "    list: A list of outliers.\n",
    "    \"\"\"\n",
    "    mean = np.mean(data)\n",
    "    std_dev = np.std(data)\n",
    "    threshold = 3\n",
    "\n",
    "    outliers = []\n",
    "    for i in data: \n",
    "        zscore = (i - mean) / std_dev\n",
    "        if np.abs(zscore) > threshold:\n",
    "            outliers.append(i)\n",
    "    \n",
    "    return outliers\n"
   ]
  },
  {
   "cell_type": "code",
   "execution_count": 25,
   "id": "7e3b93b8-c055-47d4-8cf9-7f0ada6c0c69",
   "metadata": {},
   "outputs": [],
   "source": [
    "data = [10, 12, 12, 13, 12, 11, 14, 13, 14, 15, 16, 50, 100, 13, 12, 11, 10, 14, 15]\n",
    "\n",
    "##detect_outliers(data)\n"
   ]
  },
  {
   "cell_type": "code",
   "execution_count": 26,
   "id": "f405907c-111d-49af-94bc-c122ac0b138a",
   "metadata": {},
   "outputs": [
    {
     "name": "stdout",
     "output_type": "stream",
     "text": [
      "[10, 12, 12, 13, 12, 11, 14, 13, 14, 15, 16, 50, 100, 13, 12, 11, 10, 14, 15]\n"
     ]
    }
   ],
   "source": [
    "print(data)"
   ]
  },
  {
   "cell_type": "code",
   "execution_count": 27,
   "id": "67a2c685-05a9-4bf5-a214-a388fb14a4bf",
   "metadata": {},
   "outputs": [
    {
     "name": "stdout",
     "output_type": "stream",
     "text": [
      "Outliers: [100]\n"
     ]
    }
   ],
   "source": [
    "outliers = detect_outliers(data)\n",
    "print(\"Outliers:\", outliers)"
   ]
  },
  {
   "cell_type": "code",
   "execution_count": null,
   "id": "13b29eb2-2969-4e4c-a249-f913d721884f",
   "metadata": {},
   "outputs": [],
   "source": []
  }
 ],
 "metadata": {
  "kernelspec": {
   "display_name": "Python 3 (ipykernel)",
   "language": "python",
   "name": "python3"
  },
  "language_info": {
   "codemirror_mode": {
    "name": "ipython",
    "version": 3
   },
   "file_extension": ".py",
   "mimetype": "text/x-python",
   "name": "python",
   "nbconvert_exporter": "python",
   "pygments_lexer": "ipython3",
   "version": "3.12.0"
  }
 },
 "nbformat": 4,
 "nbformat_minor": 5
}
